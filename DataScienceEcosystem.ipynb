{
 "cells": [
  {
   "cell_type": "markdown",
   "id": "eb9061f1-1a14-4b6e-97d0-9fada31b4f86",
   "metadata": {},
   "source": [
    "# Data Science Tools and Ecosystem"
   ]
  },
  {
   "cell_type": "markdown",
   "id": "4f2f6693-d165-43b7-96f7-60c25c342112",
   "metadata": {},
   "source": [
    "## Author\n",
    "Arda"
   ]
  },
  {
   "cell_type": "markdown",
   "id": "4dfff97e-33b1-483e-8e47-6722499a25b8",
   "metadata": {},
   "source": [
    "This notebook aims to summarize the key tools and ecosystems commonly used in data science."
   ]
  },
  {
   "cell_type": "markdown",
   "id": "acb1c161-1f0e-4bfa-929e-a83bdf819cf4",
   "metadata": {},
   "source": [
    "**Objectives** :\n",
    "* List popular languages of data science\n",
    "* List common libraries\n",
    "* List widely used libraries of DS\n",
    "* Make basic arithmetic operations with Python"
   ]
  },
  {
   "cell_type": "markdown",
   "id": "7cfd4ad8-c38a-462e-aa3f-351d9fb537a7",
   "metadata": {},
   "source": [
    "Some of the most popular languages in data science are:\n",
    "1. Python\n",
    "2. R\n",
    "3. SQL\n"
   ]
  },
  {
   "cell_type": "markdown",
   "id": "3d6f5fe0-49de-419a-89d0-7a28996d321e",
   "metadata": {},
   "source": [
    "Common used libraries are: \n",
    "1. Pandas\n",
    "2. Plotly\n",
    "3. NumPy\n"
   ]
  },
  {
   "cell_type": "markdown",
   "id": "b75b3a5a-e53a-4ee8-9005-863406e32523",
   "metadata": {},
   "source": [
    "| Most common open source Data Science Tools |\n",
    "| :------------------------------|\n",
    "| Jupyter Notebook              |\n",
    "| R studio                       |\n",
    "| VS Code                       |\n"
   ]
  },
  {
   "cell_type": "markdown",
   "id": "b23f3feb-6b6d-4433-946f-effc1520b4d0",
   "metadata": {},
   "source": [
    "### There are few examples of evaluating arithmetic expressions in Python\n"
   ]
  },
  {
   "cell_type": "code",
   "execution_count": 2,
   "id": "83071ff2-d48e-45dd-a7c0-c10ca70dc420",
   "metadata": {},
   "outputs": [
    {
     "data": {
      "text/plain": [
       "17"
      ]
     },
     "execution_count": 2,
     "metadata": {},
     "output_type": "execute_result"
    }
   ],
   "source": [
    "#This is simple arithmetic expression of multiplying and adding integers\n",
    "(3*4)+5"
   ]
  },
  {
   "cell_type": "code",
   "execution_count": 5,
   "id": "34c315cb-4642-40c4-8bbf-c05565d728e4",
   "metadata": {},
   "outputs": [
    {
     "data": {
      "text/plain": [
       "3.3333333333333335"
      ]
     },
     "execution_count": 5,
     "metadata": {},
     "output_type": "execute_result"
    }
   ],
   "source": [
    "#This will convert 200 min to hours by dividing by 60\n",
    "200/60"
   ]
  },
  {
   "cell_type": "code",
   "execution_count": null,
   "id": "70e2fda1-c30f-40c7-b47d-295538bb2598",
   "metadata": {},
   "outputs": [],
   "source": []
  }
 ],
 "metadata": {
  "kernelspec": {
   "display_name": "Python 3 (ipykernel)",
   "language": "python",
   "name": "python3"
  },
  "language_info": {
   "codemirror_mode": {
    "name": "ipython",
    "version": 3
   },
   "file_extension": ".py",
   "mimetype": "text/x-python",
   "name": "python",
   "nbconvert_exporter": "python",
   "pygments_lexer": "ipython3",
   "version": "3.12.8"
  }
 },
 "nbformat": 4,
 "nbformat_minor": 5
}
